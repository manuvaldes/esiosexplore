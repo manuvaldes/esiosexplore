{
 "cells": [
  {
   "cell_type": "code",
   "execution_count": 1,
   "id": "8a86635f",
   "metadata": {},
   "outputs": [],
   "source": [
    "%load_ext autoreload\n",
    "%autoreload 2"
   ]
  },
  {
   "cell_type": "code",
   "execution_count": 6,
   "id": "40576017",
   "metadata": {},
   "outputs": [],
   "source": [
    "from markdownify import markdownify as md\n",
    "import pandas as pd\n",
    "import esiosexplore as ee"
   ]
  },
  {
   "cell_type": "code",
   "execution_count": 7,
   "id": "9ac1bc85",
   "metadata": {},
   "outputs": [],
   "source": [
    "ee.set_token(\"42951c0565c21177ac8ca6fd9ff23f38cebee7f746ae9438da5d51de795a67ec\")"
   ]
  },
  {
   "cell_type": "markdown",
   "id": "2113fea3-19bb-4b5b-a9e1-820e1d586413",
   "metadata": {},
   "source": [
    "### Generate Docs"
   ]
  },
  {
   "cell_type": "code",
   "execution_count": 8,
   "id": "cfaa8b13-dc59-4e43-a2f4-03f55c877df6",
   "metadata": {},
   "outputs": [],
   "source": [
    "from scripts.generate_docs import write_indicators_docs"
   ]
  },
  {
   "cell_type": "code",
   "execution_count": 10,
   "id": "3a41dcf3-2e8d-4bbe-a3f5-b9cd58bc716d",
   "metadata": {},
   "outputs": [],
   "source": [
    "write_indicators_docs()"
   ]
  },
  {
   "cell_type": "code",
   "execution_count": null,
   "id": "c5c02a12-42f8-4d12-a512-cf1b1a248aed",
   "metadata": {},
   "outputs": [],
   "source": []
  },
  {
   "cell_type": "code",
   "execution_count": null,
   "id": "abaebe56-628b-4c33-832f-608482cd0f9a",
   "metadata": {},
   "outputs": [],
   "source": []
  },
  {
   "cell_type": "code",
   "execution_count": null,
   "id": "83264b65-f7f3-49bd-9679-23967a40dbba",
   "metadata": {},
   "outputs": [],
   "source": []
  },
  {
   "cell_type": "code",
   "execution_count": null,
   "id": "9a7c7d74-f589-411a-8aeb-8ed705fc6e79",
   "metadata": {},
   "outputs": [],
   "source": []
  },
  {
   "cell_type": "code",
   "execution_count": null,
   "id": "793850f6-18ca-4b84-8f33-2e8e2a9e00c7",
   "metadata": {},
   "outputs": [],
   "source": []
  },
  {
   "cell_type": "code",
   "execution_count": null,
   "id": "dd10176a-fdf1-4ea9-9fd0-36df9317db56",
   "metadata": {},
   "outputs": [],
   "source": []
  },
  {
   "cell_type": "code",
   "execution_count": null,
   "id": "47ea6d1b-ab25-422f-9bef-d9b9bb516485",
   "metadata": {},
   "outputs": [],
   "source": []
  }
 ],
 "metadata": {
  "kernelspec": {
   "display_name": "esiosexplore",
   "language": "python",
   "name": "esiosexplore"
  },
  "language_info": {
   "codemirror_mode": {
    "name": "ipython",
    "version": 3
   },
   "file_extension": ".py",
   "mimetype": "text/x-python",
   "name": "python",
   "nbconvert_exporter": "python",
   "pygments_lexer": "ipython3",
   "version": "3.9.6"
  }
 },
 "nbformat": 4,
 "nbformat_minor": 5
}
